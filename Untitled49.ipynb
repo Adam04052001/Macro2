{
 "cells": [
  {
   "cell_type": "code",
   "execution_count": 44,
   "metadata": {},
   "outputs": [],
   "source": [
    "import pandas as pd\n",
    "from scipy import stats\n",
    "import numpy\n",
    "import matplotlib.pyplot as pyplot\n",
    "from statsmodels.stats.weightstats import ttest_ind"
   ]
  },
  {
   "cell_type": "code",
   "execution_count": 45,
   "metadata": {},
   "outputs": [
    {
     "data": {
      "text/html": [
       "<div>\n",
       "<style scoped>\n",
       "    .dataframe tbody tr th:only-of-type {\n",
       "        vertical-align: middle;\n",
       "    }\n",
       "\n",
       "    .dataframe tbody tr th {\n",
       "        vertical-align: top;\n",
       "    }\n",
       "\n",
       "    .dataframe thead th {\n",
       "        text-align: right;\n",
       "    }\n",
       "</style>\n",
       "<table border=\"1\" class=\"dataframe\">\n",
       "  <thead>\n",
       "    <tr style=\"text-align: right;\">\n",
       "      <th></th>\n",
       "      <th>бэк194</th>\n",
       "      <th>бэк196</th>\n",
       "      <th>бэк1912</th>\n",
       "      <th>бст191</th>\n",
       "    </tr>\n",
       "  </thead>\n",
       "  <tbody>\n",
       "    <tr>\n",
       "      <th>0</th>\n",
       "      <td>32.00</td>\n",
       "      <td>36.50</td>\n",
       "      <td>68.0</td>\n",
       "      <td>55.50</td>\n",
       "    </tr>\n",
       "    <tr>\n",
       "      <th>1</th>\n",
       "      <td>29.00</td>\n",
       "      <td>24.00</td>\n",
       "      <td>61.0</td>\n",
       "      <td>53.50</td>\n",
       "    </tr>\n",
       "    <tr>\n",
       "      <th>2</th>\n",
       "      <td>27.00</td>\n",
       "      <td>44.00</td>\n",
       "      <td>42.0</td>\n",
       "      <td>28.50</td>\n",
       "    </tr>\n",
       "    <tr>\n",
       "      <th>3</th>\n",
       "      <td>39.50</td>\n",
       "      <td>31.50</td>\n",
       "      <td>30.0</td>\n",
       "      <td>32.00</td>\n",
       "    </tr>\n",
       "    <tr>\n",
       "      <th>4</th>\n",
       "      <td>0.00</td>\n",
       "      <td>25.00</td>\n",
       "      <td>29.0</td>\n",
       "      <td>8.00</td>\n",
       "    </tr>\n",
       "    <tr>\n",
       "      <th>5</th>\n",
       "      <td>39.00</td>\n",
       "      <td>0.00</td>\n",
       "      <td>53.5</td>\n",
       "      <td>0.00</td>\n",
       "    </tr>\n",
       "    <tr>\n",
       "      <th>6</th>\n",
       "      <td>47.00</td>\n",
       "      <td>44.00</td>\n",
       "      <td>51.0</td>\n",
       "      <td>20.00</td>\n",
       "    </tr>\n",
       "    <tr>\n",
       "      <th>7</th>\n",
       "      <td>49.00</td>\n",
       "      <td>44.00</td>\n",
       "      <td>50.5</td>\n",
       "      <td>37.00</td>\n",
       "    </tr>\n",
       "    <tr>\n",
       "      <th>8</th>\n",
       "      <td>11.00</td>\n",
       "      <td>28.00</td>\n",
       "      <td>50.0</td>\n",
       "      <td>40.00</td>\n",
       "    </tr>\n",
       "    <tr>\n",
       "      <th>9</th>\n",
       "      <td>0.00</td>\n",
       "      <td>35.00</td>\n",
       "      <td>45.0</td>\n",
       "      <td>2.00</td>\n",
       "    </tr>\n",
       "    <tr>\n",
       "      <th>10</th>\n",
       "      <td>47.00</td>\n",
       "      <td>37.00</td>\n",
       "      <td>55.0</td>\n",
       "      <td>57.00</td>\n",
       "    </tr>\n",
       "    <tr>\n",
       "      <th>11</th>\n",
       "      <td>0.00</td>\n",
       "      <td>63.75</td>\n",
       "      <td>61.5</td>\n",
       "      <td>56.25</td>\n",
       "    </tr>\n",
       "    <tr>\n",
       "      <th>12</th>\n",
       "      <td>28.00</td>\n",
       "      <td>0.00</td>\n",
       "      <td>66.0</td>\n",
       "      <td>31.00</td>\n",
       "    </tr>\n",
       "    <tr>\n",
       "      <th>13</th>\n",
       "      <td>56.00</td>\n",
       "      <td>44.00</td>\n",
       "      <td>83.5</td>\n",
       "      <td>45.00</td>\n",
       "    </tr>\n",
       "    <tr>\n",
       "      <th>14</th>\n",
       "      <td>55.00</td>\n",
       "      <td>42.00</td>\n",
       "      <td>46.0</td>\n",
       "      <td>38.50</td>\n",
       "    </tr>\n",
       "    <tr>\n",
       "      <th>15</th>\n",
       "      <td>47.00</td>\n",
       "      <td>0.00</td>\n",
       "      <td>56.0</td>\n",
       "      <td>38.00</td>\n",
       "    </tr>\n",
       "    <tr>\n",
       "      <th>16</th>\n",
       "      <td>46.75</td>\n",
       "      <td>0.00</td>\n",
       "      <td>66.0</td>\n",
       "      <td>26.00</td>\n",
       "    </tr>\n",
       "    <tr>\n",
       "      <th>17</th>\n",
       "      <td>0.00</td>\n",
       "      <td>53.00</td>\n",
       "      <td>57.0</td>\n",
       "      <td>45.50</td>\n",
       "    </tr>\n",
       "    <tr>\n",
       "      <th>18</th>\n",
       "      <td>66.00</td>\n",
       "      <td>39.00</td>\n",
       "      <td>36.5</td>\n",
       "      <td>50.00</td>\n",
       "    </tr>\n",
       "    <tr>\n",
       "      <th>19</th>\n",
       "      <td>59.50</td>\n",
       "      <td>53.00</td>\n",
       "      <td>42.0</td>\n",
       "      <td>22.00</td>\n",
       "    </tr>\n",
       "    <tr>\n",
       "      <th>20</th>\n",
       "      <td>20.50</td>\n",
       "      <td>44.00</td>\n",
       "      <td>0.0</td>\n",
       "      <td>60.00</td>\n",
       "    </tr>\n",
       "    <tr>\n",
       "      <th>21</th>\n",
       "      <td>54.00</td>\n",
       "      <td>67.00</td>\n",
       "      <td>NaN</td>\n",
       "      <td>42.00</td>\n",
       "    </tr>\n",
       "    <tr>\n",
       "      <th>22</th>\n",
       "      <td>62.00</td>\n",
       "      <td>15.00</td>\n",
       "      <td>NaN</td>\n",
       "      <td>68.00</td>\n",
       "    </tr>\n",
       "    <tr>\n",
       "      <th>23</th>\n",
       "      <td>24.00</td>\n",
       "      <td>81.00</td>\n",
       "      <td>NaN</td>\n",
       "      <td>52.00</td>\n",
       "    </tr>\n",
       "    <tr>\n",
       "      <th>24</th>\n",
       "      <td>NaN</td>\n",
       "      <td>39.00</td>\n",
       "      <td>NaN</td>\n",
       "      <td>23.00</td>\n",
       "    </tr>\n",
       "    <tr>\n",
       "      <th>25</th>\n",
       "      <td>NaN</td>\n",
       "      <td>64.50</td>\n",
       "      <td>NaN</td>\n",
       "      <td>72.00</td>\n",
       "    </tr>\n",
       "    <tr>\n",
       "      <th>26</th>\n",
       "      <td>NaN</td>\n",
       "      <td>48.00</td>\n",
       "      <td>NaN</td>\n",
       "      <td>60.00</td>\n",
       "    </tr>\n",
       "    <tr>\n",
       "      <th>27</th>\n",
       "      <td>NaN</td>\n",
       "      <td>NaN</td>\n",
       "      <td>NaN</td>\n",
       "      <td>42.00</td>\n",
       "    </tr>\n",
       "  </tbody>\n",
       "</table>\n",
       "</div>"
      ],
      "text/plain": [
       "    бэк194  бэк196  бэк1912  бст191\n",
       "0    32.00   36.50     68.0   55.50\n",
       "1    29.00   24.00     61.0   53.50\n",
       "2    27.00   44.00     42.0   28.50\n",
       "3    39.50   31.50     30.0   32.00\n",
       "4     0.00   25.00     29.0    8.00\n",
       "5    39.00    0.00     53.5    0.00\n",
       "6    47.00   44.00     51.0   20.00\n",
       "7    49.00   44.00     50.5   37.00\n",
       "8    11.00   28.00     50.0   40.00\n",
       "9     0.00   35.00     45.0    2.00\n",
       "10   47.00   37.00     55.0   57.00\n",
       "11    0.00   63.75     61.5   56.25\n",
       "12   28.00    0.00     66.0   31.00\n",
       "13   56.00   44.00     83.5   45.00\n",
       "14   55.00   42.00     46.0   38.50\n",
       "15   47.00    0.00     56.0   38.00\n",
       "16   46.75    0.00     66.0   26.00\n",
       "17    0.00   53.00     57.0   45.50\n",
       "18   66.00   39.00     36.5   50.00\n",
       "19   59.50   53.00     42.0   22.00\n",
       "20   20.50   44.00      0.0   60.00\n",
       "21   54.00   67.00      NaN   42.00\n",
       "22   62.00   15.00      NaN   68.00\n",
       "23   24.00   81.00      NaN   52.00\n",
       "24     NaN   39.00      NaN   23.00\n",
       "25     NaN   64.50      NaN   72.00\n",
       "26     NaN   48.00      NaN   60.00\n",
       "27     NaN     NaN      NaN   42.00"
      ]
     },
     "execution_count": 45,
     "metadata": {},
     "output_type": "execute_result"
    }
   ],
   "source": [
    "df = pd.read_excel (r'C:\\Users\\adamo\\Downloads\\группыТелегина.xlsx') #place \"r\" before the path string to address special character, such as '\\'. Don't forget to put the file name at the end of the path + '.xlsx'\n",
    "df"
   ]
  },
  {
   "cell_type": "code",
   "execution_count": 46,
   "metadata": {},
   "outputs": [],
   "source": [
    "bec194 = list(df.бэк194.dropna())\n",
    "bec196 = list(df.бэк196.dropna())\n",
    "bec1912 = list(df.бэк1912.dropna())\n",
    "bst191 = list(df.бст191.dropna())"
   ]
  },
  {
   "cell_type": "code",
   "execution_count": 47,
   "metadata": {},
   "outputs": [
    {
     "data": {
      "text/plain": [
       "MannwhitneyuResult(statistic=302.5, pvalue=0.733833819033247)"
      ]
     },
     "execution_count": 47,
     "metadata": {},
     "output_type": "execute_result"
    }
   ],
   "source": [
    "stats.mannwhitneyu(bec194, bst191, alternative='greater')"
   ]
  },
  {
   "cell_type": "markdown",
   "metadata": {},
   "source": [
    "Результаты данного непараметрического теста свидетельствуют о том, что в целом распределение баллов группы БСТ191 смещено вправо, и это не в виду того, что в группе БСТ191 есть несколько высоких работ, которые изменяют картину среднего балла, дети в целом лучше пишут кр."
   ]
  },
  {
   "cell_type": "code",
   "execution_count": 48,
   "metadata": {},
   "outputs": [
    {
     "data": {
      "text/plain": [
       "MannwhitneyuResult(statistic=348.5, pvalue=0.693401113980019)"
      ]
     },
     "execution_count": 48,
     "metadata": {},
     "output_type": "execute_result"
    }
   ],
   "source": [
    "stats.mannwhitneyu(bec196, bst191, alternative='greater')"
   ]
  },
  {
   "cell_type": "markdown",
   "metadata": {},
   "source": [
    "То же самое выяснили и при сравнении с БЭК196. Группа БСТ191 написала кр2 лучше них. Большое значение\\\n",
    "$p-value$ свидетельствует о том, что мы должны будем отвергнуть нулевую гипотезу о равном распределении\\\n",
    "баллов за кр, в пользу альтернативной, что оценки БСТ191 смещены вправо, то есть студенты пишут кр лучше."
   ]
  },
  {
   "cell_type": "code",
   "execution_count": 49,
   "metadata": {},
   "outputs": [
    {
     "data": {
      "text/plain": [
       "(MannwhitneyuResult(statistic=393.0, pvalue=0.02324512090384909),\n",
       " MannwhitneyuResult(statistic=195.0, pvalue=0.9778439913642791))"
      ]
     },
     "execution_count": 49,
     "metadata": {},
     "output_type": "execute_result"
    }
   ],
   "source": [
    "stats.mannwhitneyu(bec1912, bst191, alternative='greater'), stats.mannwhitneyu(bst191, bec1912, alternative='greater')"
   ]
  },
  {
   "cell_type": "markdown",
   "metadata": {},
   "source": [
    "В данном тесте мы приходим к тому факту, что студенты БЭК1912 пишут кр ещё лучше, чем студенты БСТ191."
   ]
  },
  {
   "cell_type": "code",
   "execution_count": 50,
   "metadata": {},
   "outputs": [
    {
     "data": {
      "image/png": "[encoded data removed]",
      "text/plain": [
       "<Figure size 432x288 with 1 Axes>"
      ]
     },
     "metadata": {
      "needs_background": "light"
     },
     "output_type": "display_data"
    },
    {
     "data": {
      "image/png": "[encoded data removed]",
      "text/plain": [
       "<Figure size 432x288 with 1 Axes>"
      ]
     },
     "metadata": {
      "needs_background": "light"
     },
     "output_type": "display_data"
    },
    {
     "data": {
      "image/png": "[encoded data removed]",
      "text/plain": [
       "<Figure size 432x288 with 1 Axes>"
      ]
     },
     "metadata": {
      "needs_background": "light"
     },
     "output_type": "display_data"
    }
   ],
   "source": [
    "for group in [bec194, bec196, bec1912]:\n",
    "    group_oth = stats.rankdata(group + bst191)[0:len(group)]\n",
    "    bst_191 = stats.rankdata(group + bst191)[len(group):]\n",
    "\n",
    "    fig, ax = pyplot.subplots(1, 1)\n",
    "\n",
    "    ax.plot(group_oth, numpy.zeros(len(group_oth)), 'ro', label='group_oth')\n",
    "    ax.plot(bst_191, numpy.zeros(len(bst_191)), 'bo', label='bst_191')\n",
    "\n",
    "    pyplot.axis('on')\n",
    "\n",
    "    ax.legend(loc='best', frameon=True)\n",
    "    pyplot.show()"
   ]
  },
  {
   "cell_type": "code",
   "execution_count": null,
   "metadata": {},
   "outputs": [],
   "source": []
  },
  {
   "cell_type": "markdown",
   "metadata": {},
   "source": [
    "Графики иллистрируют относительное смещение одной выборки(группы) относительно другой\\\n",
    "1-ый график БЭК194 и БСТ191\\\n",
    "2-ой графки БЭК196 и БСТ191\\\n",
    "3-ий грвфик БЭК1912 и БСТ191\\\n",
    "Как видим БСТ191 получает баллы за КР лучше, чем БЭК194 и БЭК196, но хуже чем БЭК1912,\\\n",
    "однако баллы по квизами у БСТ191 ниже, чем у БЭК194 и БЭК196 и БЭК1912, но БЭК1912 пишет\\\n",
    "КР лучше данных групп, но у них оценки ниже чем у БЭК194 и БЭК196."
   ]
  },
  {
   "cell_type": "markdown",
   "metadata": {},
   "source": [
    "-----------------------------------------------------------------------------------------------------------------------------------------------------------------------\\\n",
    "Выше был рассмотрен случай КР2, теперь посмотрим на КР1"
   ]
  },
  {
   "cell_type": "code",
   "execution_count": 51,
   "metadata": {},
   "outputs": [
    {
     "data": {
      "text/html": [
       "<div>\n",
       "<style scoped>\n",
       "    .dataframe tbody tr th:only-of-type {\n",
       "        vertical-align: middle;\n",
       "    }\n",
       "\n",
       "    .dataframe tbody tr th {\n",
       "        vertical-align: top;\n",
       "    }\n",
       "\n",
       "    .dataframe thead th {\n",
       "        text-align: right;\n",
       "    }\n",
       "</style>\n",
       "<table border=\"1\" class=\"dataframe\">\n",
       "  <thead>\n",
       "    <tr style=\"text-align: right;\">\n",
       "      <th></th>\n",
       "      <th>БЭК194</th>\n",
       "      <th>Бэк196</th>\n",
       "      <th>Бэк1912</th>\n",
       "      <th>БСТ191</th>\n",
       "    </tr>\n",
       "  </thead>\n",
       "  <tbody>\n",
       "    <tr>\n",
       "      <th>0</th>\n",
       "      <td>22.0</td>\n",
       "      <td>36.0</td>\n",
       "      <td>23.00</td>\n",
       "      <td>49.0</td>\n",
       "    </tr>\n",
       "    <tr>\n",
       "      <th>1</th>\n",
       "      <td>24.5</td>\n",
       "      <td>0.0</td>\n",
       "      <td>52.00</td>\n",
       "      <td>0.0</td>\n",
       "    </tr>\n",
       "    <tr>\n",
       "      <th>2</th>\n",
       "      <td>0.0</td>\n",
       "      <td>72.0</td>\n",
       "      <td>43.00</td>\n",
       "      <td>27.0</td>\n",
       "    </tr>\n",
       "    <tr>\n",
       "      <th>3</th>\n",
       "      <td>27.0</td>\n",
       "      <td>33.0</td>\n",
       "      <td>19.50</td>\n",
       "      <td>26.5</td>\n",
       "    </tr>\n",
       "    <tr>\n",
       "      <th>4</th>\n",
       "      <td>21.0</td>\n",
       "      <td>24.0</td>\n",
       "      <td>30.00</td>\n",
       "      <td>17.0</td>\n",
       "    </tr>\n",
       "    <tr>\n",
       "      <th>5</th>\n",
       "      <td>20.0</td>\n",
       "      <td>0.0</td>\n",
       "      <td>37.00</td>\n",
       "      <td>46.5</td>\n",
       "    </tr>\n",
       "    <tr>\n",
       "      <th>6</th>\n",
       "      <td>0.0</td>\n",
       "      <td>25.0</td>\n",
       "      <td>50.00</td>\n",
       "      <td>11.0</td>\n",
       "    </tr>\n",
       "    <tr>\n",
       "      <th>7</th>\n",
       "      <td>31.0</td>\n",
       "      <td>18.0</td>\n",
       "      <td>47.00</td>\n",
       "      <td>39.0</td>\n",
       "    </tr>\n",
       "    <tr>\n",
       "      <th>8</th>\n",
       "      <td>13.5</td>\n",
       "      <td>37.5</td>\n",
       "      <td>29.00</td>\n",
       "      <td>25.0</td>\n",
       "    </tr>\n",
       "    <tr>\n",
       "      <th>9</th>\n",
       "      <td>11.0</td>\n",
       "      <td>42.0</td>\n",
       "      <td>20.00</td>\n",
       "      <td>2.0</td>\n",
       "    </tr>\n",
       "    <tr>\n",
       "      <th>10</th>\n",
       "      <td>25.0</td>\n",
       "      <td>0.0</td>\n",
       "      <td>56.00</td>\n",
       "      <td>19.0</td>\n",
       "    </tr>\n",
       "    <tr>\n",
       "      <th>11</th>\n",
       "      <td>19.0</td>\n",
       "      <td>67.0</td>\n",
       "      <td>61.00</td>\n",
       "      <td>30.5</td>\n",
       "    </tr>\n",
       "    <tr>\n",
       "      <th>12</th>\n",
       "      <td>0.0</td>\n",
       "      <td>0.0</td>\n",
       "      <td>20.00</td>\n",
       "      <td>45.0</td>\n",
       "    </tr>\n",
       "    <tr>\n",
       "      <th>13</th>\n",
       "      <td>7.0</td>\n",
       "      <td>0.0</td>\n",
       "      <td>60.25</td>\n",
       "      <td>43.0</td>\n",
       "    </tr>\n",
       "    <tr>\n",
       "      <th>14</th>\n",
       "      <td>40.5</td>\n",
       "      <td>38.0</td>\n",
       "      <td>29.00</td>\n",
       "      <td>37.0</td>\n",
       "    </tr>\n",
       "    <tr>\n",
       "      <th>15</th>\n",
       "      <td>0.0</td>\n",
       "      <td>0.0</td>\n",
       "      <td>47.50</td>\n",
       "      <td>36.0</td>\n",
       "    </tr>\n",
       "    <tr>\n",
       "      <th>16</th>\n",
       "      <td>32.0</td>\n",
       "      <td>0.0</td>\n",
       "      <td>62.00</td>\n",
       "      <td>32.0</td>\n",
       "    </tr>\n",
       "    <tr>\n",
       "      <th>17</th>\n",
       "      <td>46.0</td>\n",
       "      <td>28.0</td>\n",
       "      <td>53.00</td>\n",
       "      <td>47.0</td>\n",
       "    </tr>\n",
       "    <tr>\n",
       "      <th>18</th>\n",
       "      <td>47.0</td>\n",
       "      <td>30.0</td>\n",
       "      <td>27.00</td>\n",
       "      <td>47.0</td>\n",
       "    </tr>\n",
       "    <tr>\n",
       "      <th>19</th>\n",
       "      <td>40.5</td>\n",
       "      <td>34.0</td>\n",
       "      <td>28.00</td>\n",
       "      <td>16.0</td>\n",
       "    </tr>\n",
       "    <tr>\n",
       "      <th>20</th>\n",
       "      <td>27.0</td>\n",
       "      <td>30.0</td>\n",
       "      <td>27.00</td>\n",
       "      <td>0.0</td>\n",
       "    </tr>\n",
       "    <tr>\n",
       "      <th>21</th>\n",
       "      <td>22.0</td>\n",
       "      <td>49.0</td>\n",
       "      <td>NaN</td>\n",
       "      <td>14.0</td>\n",
       "    </tr>\n",
       "    <tr>\n",
       "      <th>22</th>\n",
       "      <td>21.0</td>\n",
       "      <td>25.0</td>\n",
       "      <td>NaN</td>\n",
       "      <td>38.0</td>\n",
       "    </tr>\n",
       "    <tr>\n",
       "      <th>23</th>\n",
       "      <td>28.0</td>\n",
       "      <td>70.0</td>\n",
       "      <td>NaN</td>\n",
       "      <td>0.0</td>\n",
       "    </tr>\n",
       "    <tr>\n",
       "      <th>24</th>\n",
       "      <td>NaN</td>\n",
       "      <td>9.0</td>\n",
       "      <td>NaN</td>\n",
       "      <td>0.0</td>\n",
       "    </tr>\n",
       "    <tr>\n",
       "      <th>25</th>\n",
       "      <td>NaN</td>\n",
       "      <td>42.0</td>\n",
       "      <td>NaN</td>\n",
       "      <td>8.0</td>\n",
       "    </tr>\n",
       "    <tr>\n",
       "      <th>26</th>\n",
       "      <td>NaN</td>\n",
       "      <td>55.0</td>\n",
       "      <td>NaN</td>\n",
       "      <td>25.0</td>\n",
       "    </tr>\n",
       "    <tr>\n",
       "      <th>27</th>\n",
       "      <td>NaN</td>\n",
       "      <td>NaN</td>\n",
       "      <td>NaN</td>\n",
       "      <td>12.0</td>\n",
       "    </tr>\n",
       "  </tbody>\n",
       "</table>\n",
       "</div>"
      ],
      "text/plain": [
       "    БЭК194  Бэк196  Бэк1912  БСТ191\n",
       "0     22.0    36.0    23.00    49.0\n",
       "1     24.5     0.0    52.00     0.0\n",
       "2      0.0    72.0    43.00    27.0\n",
       "3     27.0    33.0    19.50    26.5\n",
       "4     21.0    24.0    30.00    17.0\n",
       "5     20.0     0.0    37.00    46.5\n",
       "6      0.0    25.0    50.00    11.0\n",
       "7     31.0    18.0    47.00    39.0\n",
       "8     13.5    37.5    29.00    25.0\n",
       "9     11.0    42.0    20.00     2.0\n",
       "10    25.0     0.0    56.00    19.0\n",
       "11    19.0    67.0    61.00    30.5\n",
       "12     0.0     0.0    20.00    45.0\n",
       "13     7.0     0.0    60.25    43.0\n",
       "14    40.5    38.0    29.00    37.0\n",
       "15     0.0     0.0    47.50    36.0\n",
       "16    32.0     0.0    62.00    32.0\n",
       "17    46.0    28.0    53.00    47.0\n",
       "18    47.0    30.0    27.00    47.0\n",
       "19    40.5    34.0    28.00    16.0\n",
       "20    27.0    30.0    27.00     0.0\n",
       "21    22.0    49.0      NaN    14.0\n",
       "22    21.0    25.0      NaN    38.0\n",
       "23    28.0    70.0      NaN     0.0\n",
       "24     NaN     9.0      NaN     0.0\n",
       "25     NaN    42.0      NaN     8.0\n",
       "26     NaN    55.0      NaN    25.0\n",
       "27     NaN     NaN      NaN    12.0"
      ]
     },
     "execution_count": 51,
     "metadata": {},
     "output_type": "execute_result"
    }
   ],
   "source": [
    "import pandas as pd\n",
    "df1 = pd.read_excel (r'C:\\Users\\adamo\\Downloads\\кр1.xlsx', 'Лист1')\n",
    "df1                   \n"
   ]
  },
  {
   "cell_type": "code",
   "execution_count": 52,
   "metadata": {},
   "outputs": [],
   "source": [
    "bec194_1 = list(df1.БЭК194.dropna())\n",
    "bec196_1 = list(df1.Бэк196.dropna())\n",
    "bec1912_1 = list(df1.Бэк1912.dropna())\n",
    "bst191_1 = list(df1.БСТ191.dropna())"
   ]
  },
  {
   "cell_type": "code",
   "execution_count": 53,
   "metadata": {},
   "outputs": [
    {
     "data": {
      "text/plain": [
       "MannwhitneyuResult(statistic=299.5, pvalue=0.7519502757938274)"
      ]
     },
     "execution_count": 53,
     "metadata": {},
     "output_type": "execute_result"
    }
   ],
   "source": [
    "stats.mannwhitneyu(bec194_1, bst191_1, alternative='greater')"
   ]
  },
  {
   "cell_type": "markdown",
   "metadata": {},
   "source": [
    "Получается, что БСТ191 написало 1 кр лучше."
   ]
  },
  {
   "cell_type": "code",
   "execution_count": 68,
   "metadata": {},
   "outputs": [
    {
     "data": {
      "text/plain": [
       "MannwhitneyuResult(statistic=395.5, pvalue=0.6195671174538573)"
      ]
     },
     "execution_count": 68,
     "metadata": {},
     "output_type": "execute_result"
    }
   ],
   "source": [
    "stats.mannwhitneyu(bec196_1, bst191_1, alternative='less')"
   ]
  },
  {
   "cell_type": "markdown",
   "metadata": {},
   "source": [
    "Получается, что БСТ191 написало 1 кр немного хуже, чем БЭК196, однако разница тут уже не такая большая,\\\n",
    "как при КР2, потому что $p-value$ составляет 62% и 38% при альтернативных гипотезах. То есть большая часть студентов Бст191 написало КР немного хуже, чем Бэк196 "
   ]
  },
  {
   "cell_type": "code",
   "execution_count": 55,
   "metadata": {},
   "outputs": [
    {
     "data": {
      "text/plain": [
       "(MannwhitneyuResult(statistic=393.0, pvalue=0.02324512090384909),\n",
       " MannwhitneyuResult(statistic=195.0, pvalue=0.9778439913642791))"
      ]
     },
     "execution_count": 55,
     "metadata": {},
     "output_type": "execute_result"
    }
   ],
   "source": [
    "stats.mannwhitneyu(bec1912, bst191, alternative='greater'), stats.mannwhitneyu(bst191, bec1912, alternative='greater')"
   ]
  },
  {
   "cell_type": "markdown",
   "metadata": {},
   "source": [
    "Группа БЭК1912 опять получается самой успешной. Данное утверждение я сделал на основе тразитивности\\\n",
    "Если БСТ191 пишет лучше БЭК194 и БЭК196, а БЭК1912 пишет кр лучше, чем БСТ191,\\\n",
    "то БЭК1912 самые преуспевающая группа, однако их оценки вновь ниже чем у БЭК194 и БЭК196."
   ]
  },
  {
   "cell_type": "code",
   "execution_count": 56,
   "metadata": {},
   "outputs": [
    {
     "data": {
      "image/png": "[encoded data removed]",
      "text/plain": [
       "<Figure size 432x288 with 1 Axes>"
      ]
     },
     "metadata": {
      "needs_background": "light"
     },
     "output_type": "display_data"
    },
    {
     "data": {
      "image/png": "[encoded data removed]",
      "text/plain": [
       "<Figure size 432x288 with 1 Axes>"
      ]
     },
     "metadata": {
      "needs_background": "light"
     },
     "output_type": "display_data"
    },
    {
     "data": {
      "image/png": "[encoded data removed]",
      "text/plain": [
       "<Figure size 432x288 with 1 Axes>"
      ]
     },
     "metadata": {
      "needs_background": "light"
     },
     "output_type": "display_data"
    }
   ],
   "source": [
    "for group in [bec194_1, bec196_1, bec1912_1]:\n",
    "    group_oth_1 = stats.rankdata(group + bst191_1)[0:len(group)]\n",
    "    bst_191_1 = stats.rankdata(group + bst191_1)[len(group):]\n",
    "\n",
    "    fig, ax = pyplot.subplots(1, 1)\n",
    "\n",
    "    ax.plot(group_oth_1, numpy.zeros(len(group_oth_1)), 'ro', label='group_oth_1')\n",
    "    ax.plot(bst_191_1, numpy.zeros(len(bst_191_1)), 'bo', label='bst_191_1')\n",
    "\n",
    "    pyplot.axis('on')\n",
    "\n",
    "    ax.legend(loc='best', frameon=True)\n",
    "    pyplot.show()"
   ]
  },
  {
   "cell_type": "code",
   "execution_count": 57,
   "metadata": {},
   "outputs": [
    {
     "data": {
      "text/plain": [
       "'C:\\\\Users\\\\adamo'"
      ]
     },
     "execution_count": 57,
     "metadata": {},
     "output_type": "execute_result"
    }
   ],
   "source": [
    "pwd"
   ]
  }
 ],
 "metadata": {
  "kernelspec": {
   "display_name": "Python 3",
   "language": "python",
   "name": "python3"
  },
  "language_info": {
   "codemirror_mode": {
    "name": "ipython",
    "version": 3
   },
   "file_extension": ".py",
   "mimetype": "text/x-python",
   "name": "python",
   "nbconvert_exporter": "python",
   "pygments_lexer": "ipython3",
   "version": "3.8.3"
  }
 },
 "nbformat": 4,
 "nbformat_minor": 4
}
